{
  "nbformat": 4,
  "nbformat_minor": 0,
  "metadata": {
    "colab": {
      "name": "Pyomo OPF.ipynb",
      "provenance": [],
      "collapsed_sections": [],
      "authorship_tag": "ABX9TyMOzOrtO5ul3aGJC/9t9vxS",
      "include_colab_link": true
    },
    "kernelspec": {
      "name": "python3",
      "display_name": "Python 3"
    },
    "language_info": {
      "name": "python"
    }
  },
  "cells": [
    {
      "cell_type": "markdown",
      "metadata": {
        "id": "view-in-github",
        "colab_type": "text"
      },
      "source": [
        "<a href=\"https://colab.research.google.com/github/edumntg/OPF-python/blob/main/Pyomo_OPF.ipynb\" target=\"_parent\"><img src=\"https://colab.research.google.com/assets/colab-badge.svg\" alt=\"Open In Colab\"/></a>"
      ]
    },
    {
      "cell_type": "code",
      "source": [
        "!pip install -q pyomo"
      ],
      "metadata": {
        "colab": {
          "base_uri": "https://localhost:8080/"
        },
        "id": "OpkermEh0Uz_",
        "outputId": "0455cf91-9ef7-4779-cfaf-3c02239a6fde"
      },
      "execution_count": 1,
      "outputs": [
        {
          "output_type": "stream",
          "name": "stdout",
          "text": [
            "\u001b[K     |████████████████████████████████| 9.2 MB 5.1 MB/s \n",
            "\u001b[K     |████████████████████████████████| 49 kB 3.1 MB/s \n",
            "\u001b[?25h"
          ]
        }
      ]
    },
    {
      "cell_type": "code",
      "source": [
        "!wget -N -q \"https://ampl.com/dl/open/ipopt/ipopt-linux64.zip\"\n",
        "!unzip -o -q ipopt-linux64"
      ],
      "metadata": {
        "id": "Zi1XGT9OCaKO"
      },
      "execution_count": 2,
      "outputs": []
    },
    {
      "cell_type": "code",
      "source": [
        "from pyomo.environ import *\n",
        "import numpy as np\n",
        "from math import pi"
      ],
      "metadata": {
        "id": "9dI5ReMnFITN"
      },
      "execution_count": 3,
      "outputs": []
    },
    {
      "cell_type": "markdown",
      "source": [
        "# Data"
      ],
      "metadata": {
        "id": "xKl3T94A1h96"
      }
    },
    {
      "cell_type": "code",
      "source": [
        "Sbase = 10 # MW\n",
        "\n",
        "buses = {\n",
        "    1: [1, 0, 1.00, 0.0, 0.0, 0.0, 0.0, 0.0],\n",
        "    2: [2, 1, 1.01, 0.0, 0.0, 0.0, 0.0, 0.0],\n",
        "    3: [3, 2, 1.00, 0.0, 0.0, 0.0, 0.3, 0.1]\n",
        "}\n",
        "\n",
        "lines = {\n",
        "    1: [1, 2, 0.0192, 0.0575, 0.0264, 1, 30/Sbase],\n",
        "    2: [1, 3, 0.0452, 0.1852, 0.0204, 1, 30/Sbase],\n",
        "    3: [2, 3, 0.0570, 0.1737, 0.0184, 1, 30/Sbase]\n",
        "}\n",
        "\n",
        "gens = {\n",
        "    1: [1, 0/Sbase, 20/Sbase, -20/Sbase, 100/Sbase, 0.00375, 2, 0],\n",
        "    2: [2, 0/Sbase, 20/Sbase, -20/Sbase, 100/Sbase, 0.0175, 1.75, 0]\n",
        "}"
      ],
      "metadata": {
        "id": "jP7qVMbU1i65"
      },
      "execution_count": 172,
      "outputs": []
    },
    {
      "cell_type": "markdown",
      "source": [
        "# Create Ybus"
      ],
      "metadata": {
        "id": "wLE_TDJw4D16"
      }
    },
    {
      "cell_type": "code",
      "source": [
        "nb = len(buses)\n",
        "nl = len(lines)\n",
        "ng = len(gens)\n",
        "\n",
        "Ybus = np.zeros((nb, nb), dtype=np.complex128)\n",
        "g = np.zeros((nb, nb))\n",
        "b = np.zeros((nb,nb))\n",
        "# Loop through lines\n",
        "for lineid, linedata in lines.items():\n",
        "  i = linedata[0]-1\n",
        "  k = linedata[1]-1\n",
        "  Z = linedata[2] + 1j*linedata[3]\n",
        "  Bs = 1j*linedata[4]\n",
        "  a = linedata[5]\n",
        "\n",
        "  Ybus[i][i] += (1/(Z*a**2))\n",
        "  Ybus[k][k] += (1/(Z*a**2))\n",
        "\n",
        "  Ybus[i][i] += Bs\n",
        "  Ybus[k][k] += Bs\n",
        "\n",
        "  Ybus[i][k] -= 1/(a*Z)\n",
        "  Ybus[k][i] -= 1/(a*Z)\n",
        "\n",
        "  b[i][k] = Bs.imag\n",
        "  b[k][i] = Bs.imag\n",
        "\n",
        "G = Ybus.real\n",
        "B = Ybus.imag\n",
        "\n",
        "print(Ybus)\n",
        "print(G)\n",
        "print(B)"
      ],
      "metadata": {
        "colab": {
          "base_uri": "https://localhost:8080/"
        },
        "id": "6EeXIhYC1E2Y",
        "outputId": "30c7a413-a84a-4312-a6b3-5773f188870e"
      },
      "execution_count": 173,
      "outputs": [
        {
          "output_type": "stream",
          "name": "stdout",
          "text": [
            "[[ 6.46838347-20.69594776j -5.22464618+15.64672684j\n",
            "  -1.24373729 +5.09602092j]\n",
            " [-5.22464618+15.64672684j  6.9301765 -20.79930607j\n",
            "  -1.70553032 +5.19737923j]\n",
            " [-1.24373729 +5.09602092j -1.70553032 +5.19737923j\n",
            "   2.9492676 -10.25460015j]]\n",
            "[[ 6.46838347 -5.22464618 -1.24373729]\n",
            " [-5.22464618  6.9301765  -1.70553032]\n",
            " [-1.24373729 -1.70553032  2.9492676 ]]\n",
            "[[-20.69594776  15.64672684   5.09602092]\n",
            " [ 15.64672684 -20.79930607   5.19737923]\n",
            " [  5.09602092   5.19737923 -10.25460015]]\n"
          ]
        }
      ]
    },
    {
      "cell_type": "markdown",
      "source": [
        "# Objective Function"
      ],
      "metadata": {
        "id": "aHmwNIpW5llG"
      }
    },
    {
      "cell_type": "code",
      "source": [
        "def ObjectiveFunction(model):\n",
        "  Cost = 0.0\n",
        "  for genid, gendata in gens.items():\n",
        "    bus = gendata[0]\n",
        "    a = gendata[4]\n",
        "    b = gendata[5]\n",
        "    c = gendata[6]\n",
        "\n",
        "    Cost += c*model.Pgen[bus]**2 + b*model.Pgen[bus] + a\n",
        "\n",
        "  return Cost\n",
        "  #return -sum(model.l[i] for i in model.bus)"
      ],
      "metadata": {
        "id": "X1ScJw--5gG9"
      },
      "execution_count": 174,
      "outputs": []
    },
    {
      "cell_type": "markdown",
      "source": [
        "# Constraints"
      ],
      "metadata": {
        "id": "jnzFK67g6cGv"
      }
    },
    {
      "cell_type": "code",
      "source": [
        "def MinGen_P(model, bus):\n",
        "  keys = [key for (key, v) in gens.items() if v[0] == bus]\n",
        "  lb = 0\n",
        "  if keys:\n",
        "    lb = gens[keys[0]][1]\n",
        "    \n",
        "  return model.Pgen[bus] >= lb\n",
        "  \n",
        "def MaxGen_P(model, bus):\n",
        "  keys = [key for (key, v) in gens.items() if v[0] == bus]\n",
        "  ub = 0\n",
        "  if keys:\n",
        "    ub = gens[keys[0]][2]\n",
        "    \n",
        "  return model.Pgen[bus] <= ub\n",
        "\n",
        "def MinGen_Q(model, bus):\n",
        "  keys = [key for (key, v) in gens.items() if v[0] == bus]\n",
        "  lb = 0\n",
        "  if keys:\n",
        "    lb = gens[keys[0]][3]\n",
        "    \n",
        "  return model.Qgen[bus] >= lb\n",
        "  \n",
        "def MaxGen_Q(model, bus):\n",
        "  keys = [key for (key, v) in gens.items() if v[0] == bus]\n",
        "  ub = 0\n",
        "  if keys:\n",
        "    ub = gens[keys[0]][4]\n",
        "    \n",
        "  return model.Qgen[bus] <= ub\n",
        "\n",
        "def MaxFlowLineik(model, line):\n",
        "  S = lines[line][6]\n",
        "  i = lines[line][0]\n",
        "  k = lines[line][1]\n",
        "  return model.Pflow[i,k]**2+model.Qflow[i,k]**2 <= S\n",
        "\n",
        "def MaxFlowLineki(model, line):\n",
        "  S = lines[line][6]\n",
        "  i = lines[line][1]\n",
        "  k = lines[line][0]\n",
        "  return model.Pflow[i,k]**2+model.Qflow[i,k]**2 <= S\n",
        "\n",
        "def KirchoffBusesP(model, bus):\n",
        "  Pik = 0\n",
        "  Pgbus = model.Pgen[bus]\n",
        "    \n",
        "  for linea in model.line:\n",
        "    i = lines[linea][0]\n",
        "    if i == bus: # gen id is the same as bus id\n",
        "      j = lines[linea][1]\n",
        "      Pik += model.Pflow[i,j]\n",
        "      \n",
        "  for linea in model.line:\n",
        "    i = lines[linea][1]\n",
        "    if i == bus: # gen id is the same as bus id\n",
        "      j = lines[linea][0]\n",
        "      Pik += model.Pflow[i,j]\n",
        "    \n",
        "  return Pgbus == buses[bus][6] + Pik\n",
        "\n",
        "def KirchoffBusesQ(model, bus):\n",
        "  Qik = 0\n",
        "  Qgbus = model.Qgen[bus]\n",
        "  Qshunt = 0\n",
        "  for linea in model.line:\n",
        "    i = lines[linea][0]\n",
        "    if i == bus: # gen id is the same as bus id\n",
        "      j = lines[linea][1]\n",
        "      Qik += model.Qflow[i,j]\n",
        "      \n",
        "  for linea in model.line:\n",
        "    i = lines[linea][1]\n",
        "    if i == bus: # gen id is the same as bus id\n",
        "      j = lines[linea][0]\n",
        "      Qik += model.Qflow[i,j]\n",
        "      \n",
        "    \n",
        "  return Qgbus == buses[bus][7] + Qik + Qshunt\n",
        "  \n",
        "# Lines equations\n",
        "def PflowEq1(model, linea):\n",
        "  i = lines[linea][0]\n",
        "  j = lines[linea][1]\n",
        "  return model.Pflow[i, j] == (-G[i-1][j-1] + g[i-1][j-1])*model.V[i]**2 + model.V[i]*model.V[j]*(G[i-1][j-1]*cos(model.theta[i]-model.theta[j]) + B[i-1][j-1]*sin(model.theta[i]-model.theta[j]))\n",
        "\n",
        "def PflowEq2(model, linea):\n",
        "  i = lines[linea][1]\n",
        "  j = lines[linea][0]\n",
        "  return model.Pflow[i, j] == (-G[i-1][j-1] + g[i-1][j-1])*model.V[i]**2 + model.V[i]*model.V[j]*(G[i-1][j-1]*cos(model.theta[i]-model.theta[j]) + B[i-1][j-1]*sin(model.theta[i]-model.theta[j]))\n",
        "\n",
        "def QflowEq1(model, linea):\n",
        "  i = lines[linea][0]\n",
        "  j = lines[linea][1]\n",
        "  return model.Qflow[i, j] == (B[i-1][j-1] - b[i-1][j-1])*model.V[i]**2 + model.V[i]*model.V[j]*(-B[i-1][j-1]*cos(model.theta[i]-model.theta[j]) + G[i-1][j-1]*sin(model.theta[i]-model.theta[j]))\n",
        "\n",
        "def QflowEq2(model, linea):\n",
        "  i = lines[linea][1]\n",
        "  j = lines[linea][0]\n",
        "  return model.Qflow[i, j] == (B[i-1][j-1] - b[i-1][j-1])*model.V[i]**2 + model.V[i]*model.V[j]*(-B[i-1][j-1]*cos(model.theta[i]-model.theta[j]) + G[i-1][j-1]*sin(model.theta[i]-model.theta[j]))\n"
      ],
      "metadata": {
        "id": "AOax3-VI6bZh"
      },
      "execution_count": 189,
      "outputs": []
    },
    {
      "cell_type": "markdown",
      "source": [
        "# Finally, solve"
      ],
      "metadata": {
        "id": "A_LuUtWq9lMA"
      }
    },
    {
      "cell_type": "code",
      "source": [
        "model = ConcreteModel()\n",
        "\n",
        "model.bus = Set(initialize = buses.keys())\n",
        "model.line = Set(initialize = lines.keys())\n",
        "model.gen = Set(initialize = gens.keys())\n",
        "\n",
        "# Create variables\n",
        "model.Pgen = Var(model.bus, initialize = 0)\n",
        "model.Qgen = Var(model.bus, initialize = 0)\n",
        "model.V = Var(model.bus, initialize = 0.0, bounds = (0.9, 1.1), within = NonNegativeReals)\n",
        "model.theta = Var(model.bus, initialize = 0.0, bounds = (-pi, pi))\n",
        "\n",
        "# Line flows\n",
        "model.Pflow = Var(model.bus, model.bus)\n",
        "model.Qflow = Var(model.bus, model.bus)\n",
        "\n",
        "model.obj = Objective(rule = ObjectiveFunction, sense = minimize)\n",
        "\n",
        "model.c0 = Constraint(expr = model.theta[1] == 0)\n",
        "\n",
        "model.c1 = Constraint(model.bus, rule = KirchoffBusesP)\n",
        "model.c2 = Constraint(model.bus, rule = KirchoffBusesQ)\n",
        "\n",
        "model.c3 = Constraint(model.bus, rule = MaxGen_P)\n",
        "model.c4 = Constraint(model.bus, rule = MinGen_P)\n",
        "model.c5 = Constraint(model.bus, rule = MaxGen_Q)\n",
        "model.c6 = Constraint(model.bus, rule = MinGen_Q)\n",
        "\n",
        "\n",
        "model.c7 = Constraint(model.line, rule = MaxFlowLineik)\n",
        "model.c8 = Constraint(model.line, rule = MaxFlowLineki)\n",
        "\n",
        "model.c9 = Constraint(model.line, rule = PflowEq1)\n",
        "model.c10 = Constraint(model.line, rule = PflowEq2)\n",
        "model.c11 = Constraint(model.line, rule = QflowEq1)\n",
        "model.c12 = Constraint(model.line, rule = QflowEq2)\n"
      ],
      "metadata": {
        "id": "s-Lz_R2M7Cix"
      },
      "execution_count": 190,
      "outputs": []
    },
    {
      "cell_type": "markdown",
      "source": [
        "# Solve"
      ],
      "metadata": {
        "id": "x9wfmUwCCMb2"
      }
    },
    {
      "cell_type": "code",
      "source": [
        "solver = SolverFactory('ipopt', executable='/content/ipopt')\n",
        "results = solver.solve(model)\n",
        "print(results.solver.termination_condition)"
      ],
      "metadata": {
        "colab": {
          "base_uri": "https://localhost:8080/"
        },
        "id": "qrqT9UT7-i5b",
        "outputId": "10a95801-9b1b-4e32-f76a-f957163f0716"
      },
      "execution_count": 191,
      "outputs": [
        {
          "output_type": "stream",
          "name": "stdout",
          "text": [
            "optimal\n"
          ]
        }
      ]
    },
    {
      "cell_type": "code",
      "source": [
        "def PrintOPFACResults(model, buses, lineas, gens, shunts):\n",
        "\n",
        "\tnb = len(buses)\n",
        "\tnl = len(lineas)\n",
        "\tng = len(gens)\n",
        "\tns = len(shunts)\n",
        "\n",
        "\tprint('BusID\tV\tth\tPg\tQg\tl\tPl\tQl\tQshunt\\n')\n",
        "\tl = {}\n",
        "\tfor i in model.bus:\n",
        "\t\tQshunt = 0\n",
        "\t\tPg = abs(model.Pgen[i]())\n",
        "\t\tQg = model.Qgen[i]()\n",
        "\t\t\n",
        "\t\tprint(\"{0:.0f}\t{1:.4f}\t{2:.4f}\t{3:.4f}\t{4:.4f}\t{5:.4f}\t{6:.4f}\t{7:.4f}\t{8:.4f}\".format(i,model.V[i](),model.theta[i](),Pg,Qg, 1.0, buses[i][6], buses[i][7], 0.0))\n",
        "\n",
        "\tPgtotal = sum(model.Pgen[i]() for i in model.bus)\n",
        "\tQgtotal = sum(model.Qgen[i]() for i in model.bus)\n",
        "\n",
        "\tPloadtotal = sum(buses[i][6] for i in model.bus)\n",
        "\tQloadtotal = sum(buses[i][7] for i in model.bus)\n",
        "\n",
        "\tprint(\"\\n\")\n",
        "\tprint(\"TOTAL\t\t\t{0:.4f}\t{1:.4f}\t\t{2:.4f}\t{3:.4f}\".format(Pgtotal, Qgtotal, Ploadtotal, Qloadtotal))\n",
        "\tprint(\"\\n\\n\")\n",
        "\n",
        "\tprint(\"Busi\tBusk\tPik\tPki\tQik\tQki\")\n",
        "\tPik = np.zeros((nb,nb))\n",
        "\tPki = np.zeros((nb,nb))\n",
        "\tQik = np.zeros((nb,nb))\n",
        "\tQki = np.zeros((nb,nb))\n",
        "\n",
        "\tfor l in model.line:\n",
        "\t\ti = lineas[l][0]\n",
        "\t\tj = lineas[l][1]\n",
        "\t\tprint(\"{0:.0f}\t{1:.0f}\t{2:.4f}\t{3:.4f}\t{4:.4f}\t{5:.4f}\".format(i,j,model.Pflow[i,j](),model.Pflow[j,i](),model.Qflow[i,j](),model.Qflow[j,i]()))\n",
        "\t\t\n",
        "\tPloss = 0\n",
        "\tQloss = 0\n",
        "\tfor l in model.line:\n",
        "\t\ti = lineas[l][0]\n",
        "\t\tj = lineas[l][1]\n",
        "\t\tPloss += model.Pflow[i,j]() + model.Pflow[j,i]()\n",
        "\t\tQloss += model.Qflow[i,j]() + model.Qflow[j,i]()\n",
        "\n",
        "\n",
        "\tPl_supplied = sum(buses[i][6] for i in model.bus)\n",
        "\tPl_total = sum(buses[i][6] for i in model.bus)\n",
        "\tperc_supplied = (Pl_supplied/Pl_total)*100\n",
        "\t\n",
        "\tprint(\"\\n\")\n",
        "\tprint(\"Total Ploss: {0:.4f}\\nTotal Qloss: {1:.4f}\".format(Ploss,Qloss))\n",
        "\tprint(\"Total Load Supplied: {0:.4f}%\".format(perc_supplied))"
      ],
      "metadata": {
        "id": "CqX3Eh-I_E2R"
      },
      "execution_count": 192,
      "outputs": []
    },
    {
      "cell_type": "code",
      "source": [
        "PrintOPFACResults(model, buses, lines, gens, [])"
      ],
      "metadata": {
        "colab": {
          "base_uri": "https://localhost:8080/"
        },
        "id": "fr87NvUJCqKe",
        "outputId": "d99e05b9-2029-4e95-b60b-a9883c30eccb"
      },
      "execution_count": 193,
      "outputs": [
        {
          "output_type": "stream",
          "name": "stdout",
          "text": [
            "BusID\tV\tth\tPg\tQg\tl\tPl\tQl\tQshunt\n",
            "\n",
            "1\t1.1000\t-0.0000\t0.1428\t-0.0203\t1.0000\t0.0000\t0.0000\t0.0000\n",
            "2\t1.1000\t0.0002\t0.1592\t-0.0294\t1.0000\t0.0000\t0.0000\t0.0000\n",
            "3\t1.0882\t-0.0213\t0.0000\t-0.0000\t1.0000\t0.3000\t0.1000\t0.0000\n",
            "\n",
            "\n",
            "TOTAL\t\t\t0.3020\t-0.0497\t\t0.3000\t0.1000\n",
            "\n",
            "\n",
            "\n",
            "Busi\tBusk\tPik\tPki\tQik\tQki\n",
            "1\t2\t-0.0033\t0.0033\t-0.0314\t-0.0324\n",
            "1\t3\t0.1461\t-0.1453\t0.0111\t-0.0565\n",
            "2\t3\t0.1559\t-0.1547\t0.0030\t-0.0435\n",
            "\n",
            "\n",
            "Total Ploss: 0.0020\n",
            "Total Qloss: -0.1497\n",
            "Total Load Supplied: 100.0000%\n"
          ]
        }
      ]
    }
  ]
}